{
 "cells": [
  {
   "cell_type": "code",
   "execution_count": 4,
   "metadata": {},
   "outputs": [],
   "source": [
    "url=\"https://youtu.be/tE1H8fYQ95M\"\n",
    "\n",
    "import yt_dlp\n",
    "import numpy as np\n",
    "import cv2\n",
    "import boto3\n",
    "from pathlib import Path\n",
    "\n",
    "# Let's use Amazon S3\n",
    "s3 = boto3.resource('s3')"
   ]
  },
  {
   "cell_type": "code",
   "execution_count": 2,
   "metadata": {},
   "outputs": [
    {
     "name": "stdout",
     "output_type": "stream",
     "text": [
      "[youtube] Extracting URL: https://youtu.be/tE1H8fYQ95M\n",
      "[youtube] tE1H8fYQ95M: Downloading webpage\n",
      "[youtube] tE1H8fYQ95M: Downloading android player API JSON\n",
      "[info] tE1H8fYQ95M: Downloading 1 format(s): 248+251\n",
      "[download] video/video.webm has already been downloaded\n"
     ]
    }
   ],
   "source": [
    "URLS = [url]\n",
    "\n",
    "ydl_opts = {\n",
    "    'format': 'bv*+ba/b',\n",
    "    \"outtmpl\": \"video/video.%(ext)s\",\n",
    "    \"path\": \"video\"\n",
    "}\n",
    "t = {\n",
    "    'postprocessors': [\n",
    "    {  # Extract audio using ffmpeg\n",
    "        'key': 'FFmpegExtractAudio',\n",
    "        'preferredcodec': 'm4a',\n",
    "    },\n",
    "    {\n",
    "        'key': 'FFmpegVideoConvertor', \n",
    "        \"preferedformat\": \"mp4\"\n",
    "    }\n",
    "    ] \n",
    "    # ℹ️ See help(yt_dlp.postprocessor) for a list of available Postprocessors and their arguments\n",
    "\n",
    "}\n",
    "\n",
    "\n",
    "ydl =yt_dlp.YoutubeDL(ydl_opts)\n",
    "error_code = ydl.download(URLS)\n",
    "\n",
    "# with yt_dlp.YoutubeDL(ydl_opts) as ydl:\n"
   ]
  },
  {
   "cell_type": "code",
   "execution_count": 3,
   "metadata": {},
   "outputs": [],
   "source": [
    "import ffmpeg"
   ]
  },
  {
   "cell_type": "code",
   "execution_count": 10,
   "metadata": {},
   "outputs": [
    {
     "name": "stderr",
     "output_type": "stream",
     "text": [
      "ffmpeg version 4.2.7-0ubuntu0.1 Copyright (c) 2000-2022 the FFmpeg developers\n",
      "  built with gcc 9 (Ubuntu 9.4.0-1ubuntu1~20.04.1)\n",
      "  configuration: --prefix=/usr --extra-version=0ubuntu0.1 --toolchain=hardened --libdir=/usr/lib/x86_64-linux-gnu --incdir=/usr/include/x86_64-linux-gnu --arch=amd64 --enable-gpl --disable-stripping --enable-avresample --disable-filter=resample --enable-avisynth --enable-gnutls --enable-ladspa --enable-libaom --enable-libass --enable-libbluray --enable-libbs2b --enable-libcaca --enable-libcdio --enable-libcodec2 --enable-libflite --enable-libfontconfig --enable-libfreetype --enable-libfribidi --enable-libgme --enable-libgsm --enable-libjack --enable-libmp3lame --enable-libmysofa --enable-libopenjpeg --enable-libopenmpt --enable-libopus --enable-libpulse --enable-librsvg --enable-librubberband --enable-libshine --enable-libsnappy --enable-libsoxr --enable-libspeex --enable-libssh --enable-libtheora --enable-libtwolame --enable-libvidstab --enable-libvorbis --enable-libvpx --enable-libwavpack --enable-libwebp --enable-libx265 --enable-libxml2 --enable-libxvid --enable-libzmq --enable-libzvbi --enable-lv2 --enable-omx --enable-openal --enable-opencl --enable-opengl --enable-sdl2 --enable-libdc1394 --enable-libdrm --enable-libiec61883 --enable-nvenc --enable-chromaprint --enable-frei0r --enable-libx264 --enable-shared\n",
      "  libavutil      56. 31.100 / 56. 31.100\n",
      "  libavcodec     58. 54.100 / 58. 54.100\n",
      "  libavformat    58. 29.100 / 58. 29.100\n",
      "  libavdevice    58.  8.100 / 58.  8.100\n",
      "  libavfilter     7. 57.100 /  7. 57.100\n",
      "  libavresample   4.  0.  0 /  4.  0.  0\n",
      "  libswscale      5.  5.100 /  5.  5.100\n",
      "  libswresample   3.  5.100 /  3.  5.100\n",
      "  libpostproc    55.  5.100 / 55.  5.100\n",
      "Input #0, matroska,webm, from 'video/video.webm':\n",
      "  Metadata:\n",
      "    ENCODER         : Lavf58.29.100\n",
      "  Duration: 00:22:24.60, start: -0.007000, bitrate: 258 kb/s\n",
      "    Stream #0:0(eng): Video: vp9 (Profile 0), yuv420p(tv, bt709), 1920x1080, SAR 1:1 DAR 16:9, 30 fps, 30 tbr, 1k tbn, 1k tbc (default)\n",
      "    Metadata:\n",
      "      DURATION        : 00:22:24.567000000\n",
      "    Stream #0:1(eng): Audio: opus, 48000 Hz, stereo, fltp (default)\n",
      "    Metadata:\n",
      "      DURATION        : 00:22:24.601000000\n",
      "Stream mapping:\n",
      "  Stream #0:1 -> #0:0 (opus (native) -> opus (libopus))\n",
      "Press [q] to stop, [?] for help\n",
      "[libopus @ 0x55d312ad8880] No bit rate set. Defaulting to 96000 bps.\n",
      "Output #0, webm, to 'audio.webm':\n",
      "  Metadata:\n",
      "    encoder         : Lavf58.29.100\n",
      "    Stream #0:0(eng): Audio: opus (libopus), 48000 Hz, stereo, flt, 96 kb/s (default)\n",
      "    Metadata:\n",
      "      DURATION        : 00:22:24.601000000\n",
      "      encoder         : Lavc58.54.100 libopus\n",
      "size=   14095kB time=00:22:24.60 bitrate=  85.9kbits/s speed=72.8x    \n",
      "video:0kB audio:13641kB subtitle:0kB other streams:0kB global headers:0kB muxing overhead: 3.325007%\n"
     ]
    },
    {
     "data": {
      "text/plain": [
       "(None, None)"
      ]
     },
     "execution_count": 10,
     "metadata": {},
     "output_type": "execute_result"
    }
   ],
   "source": [
    "# search for the video file\n",
    "video_file = next(Path(\"video\").glob(\"video.*\"))\n",
    "video_file\n",
    "ffmpeg.input(video_file).audio.output(\"audio.webm\").run()"
   ]
  },
  {
   "cell_type": "code",
   "execution_count": 14,
   "metadata": {},
   "outputs": [],
   "source": [
    "#pip install opencv-python\n",
    "#pip install --upgrade scenedetect\n",
    "from scenedetect import SceneManager, open_video, ContentDetector\n",
    "from scenedetect.scene_manager import  save_images\n",
    "\n",
    "video_path = str(video_file)\n",
    "threshold=27.0\n",
    "\n",
    "        \n",
    "video = open_video(video_path)\n",
    "scene_manager = SceneManager()\n",
    "scene_manager.add_detector(\n",
    "        ContentDetector(threshold=threshold))\n",
    "    # Detect all scenes in video from current position to end.\n"
   ]
  },
  {
   "cell_type": "code",
   "execution_count": 15,
   "metadata": {},
   "outputs": [],
   "source": [
    "scene_manager.detect_scenes(video)# ,callback=on_new_scene)\n",
    "scene_list = scene_manager.get_scene_list()\n"
   ]
  },
  {
   "cell_type": "code",
   "execution_count": 29,
   "metadata": {},
   "outputs": [
    {
     "data": {
      "text/plain": [
       "scenedetect.frame_timecode.FrameTimecode"
      ]
     },
     "execution_count": 29,
     "metadata": {},
     "output_type": "execute_result"
    }
   ],
   "source": [
    "type(scene_list[0][0]) "
   ]
  },
  {
   "cell_type": "code",
   "execution_count": 28,
   "metadata": {},
   "outputs": [],
   "source": [
    "from scenedetect.frame_timecode import FrameTimecode\n",
    "\n",
    "FrameTimecode()"
   ]
  },
  {
   "cell_type": "code",
   "execution_count": 29,
   "metadata": {},
   "outputs": [],
   "source": [
    "\n",
    "image_filenames = save_images(\n",
    "    scene_list[0:-1],\n",
    "    video,\n",
    "    num_images=1,\n",
    "    image_name_template=\"$FRAME_NUMBER\",\n",
    "    image_extension=\"png\",\n",
    "    output_dir=\"frames\")\n"
   ]
  },
  {
   "cell_type": "code",
   "execution_count": 30,
   "metadata": {},
   "outputs": [
    {
     "data": {
      "text/plain": [
       "{0: ['44.png'],\n",
       " 1: ['133.png'],\n",
       " 2: ['316.png'],\n",
       " 3: ['655.png'],\n",
       " 4: ['3797.png'],\n",
       " 5: ['6859.png'],\n",
       " 6: ['10015.png'],\n",
       " 7: ['13607.png'],\n",
       " 8: ['14285.png'],\n",
       " 9: ['18170.png'],\n",
       " 10: ['22773.png'],\n",
       " 11: ['26644.png'],\n",
       " 12: ['29987.png'],\n",
       " 13: ['30862.png'],\n",
       " 14: ['31807.png'],\n",
       " 15: ['33161.png'],\n",
       " 16: ['34702.png'],\n",
       " 17: ['35667.png'],\n",
       " 18: ['36170.png'],\n",
       " 19: ['37095.png'],\n",
       " 20: ['38825.png'],\n",
       " 21: ['39801.png'],\n",
       " 22: ['40017.png'],\n",
       " 23: ['40212.png'],\n",
       " 24: ['40296.png']}"
      ]
     },
     "execution_count": 30,
     "metadata": {},
     "output_type": "execute_result"
    }
   ],
   "source": [
    "image_filenames"
   ]
  },
  {
   "cell_type": "code",
   "execution_count": 52,
   "metadata": {},
   "outputs": [
    {
     "data": {
      "text/plain": [
       "'44'"
      ]
     },
     "execution_count": 52,
     "metadata": {},
     "output_type": "execute_result"
    }
   ],
   "source": [
    "Path(image_filenames[0][0]).stem"
   ]
  },
  {
   "cell_type": "code",
   "execution_count": 41,
   "metadata": {},
   "outputs": [
    {
     "data": {
      "text/plain": [
       "{'framerate': 30.0, 'frame_num': 0}"
      ]
     },
     "execution_count": 41,
     "metadata": {},
     "output_type": "execute_result"
    }
   ],
   "source": [
    "scene_list[0][0].__dict__"
   ]
  },
  {
   "cell_type": "code",
   "execution_count": 46,
   "metadata": {},
   "outputs": [
    {
     "data": {
      "text/plain": [
       "1294.1666666666667"
      ]
     },
     "execution_count": 46,
     "metadata": {},
     "output_type": "execute_result"
    }
   ],
   "source": [
    "frame = FrameTimecode (int(image_filenames[20][0][:-4]),scene_list[0][0].framerate)\n",
    "frame.get_seconds()"
   ]
  },
  {
   "cell_type": "code",
   "execution_count": null,
   "metadata": {},
   "outputs": [],
   "source": []
  },
  {
   "cell_type": "code",
   "execution_count": 47,
   "metadata": {},
   "outputs": [
    {
     "data": {
      "text/plain": [
       "scenedetect.frame_timecode.FrameTimecode"
      ]
     },
     "execution_count": 47,
     "metadata": {},
     "output_type": "execute_result"
    }
   ],
   "source": [
    "type(scene_list[0][1])"
   ]
  },
  {
   "cell_type": "code",
   "execution_count": null,
   "metadata": {},
   "outputs": [],
   "source": []
  },
  {
   "cell_type": "code",
   "execution_count": null,
   "metadata": {},
   "outputs": [],
   "source": []
  },
  {
   "cell_type": "code",
   "execution_count": 10,
   "metadata": {},
   "outputs": [
    {
     "data": {
      "text/plain": [
       "[(00:00:00.000 [frame=0, fps=30.000], 00:00:02.967 [frame=89, fps=30.000]),\n",
       " (00:00:02.967 [frame=89, fps=30.000], 00:00:05.933 [frame=178, fps=30.000]),\n",
       " (00:00:05.933 [frame=178, fps=30.000], 00:00:15.167 [frame=455, fps=30.000]),\n",
       " (00:00:15.167 [frame=455, fps=30.000], 00:00:28.500 [frame=855, fps=30.000]),\n",
       " (00:00:28.500 [frame=855, fps=30.000], 00:03:44.633 [frame=6739, fps=30.000]),\n",
       " (00:03:44.633 [frame=6739, fps=30.000],\n",
       "  00:03:52.633 [frame=6979, fps=30.000]),\n",
       " (00:03:52.633 [frame=6979, fps=30.000],\n",
       "  00:07:15.067 [frame=13052, fps=30.000]),\n",
       " (00:07:15.067 [frame=13052, fps=30.000],\n",
       "  00:07:52.067 [frame=14162, fps=30.000]),\n",
       " (00:07:52.067 [frame=14162, fps=30.000],\n",
       "  00:08:00.300 [frame=14409, fps=30.000]),\n",
       " (00:08:00.300 [frame=14409, fps=30.000],\n",
       "  00:09:47.200 [frame=17616, fps=30.000]),\n",
       " (00:09:47.200 [frame=17616, fps=30.000],\n",
       "  00:12:11.033 [frame=21931, fps=30.000]),\n",
       " (00:12:11.033 [frame=21931, fps=30.000],\n",
       "  00:13:07.167 [frame=23615, fps=30.000]),\n",
       " (00:13:07.167 [frame=23615, fps=30.000],\n",
       "  00:16:29.133 [frame=29674, fps=30.000]),\n",
       " (00:16:29.133 [frame=29674, fps=30.000],\n",
       "  00:16:50.033 [frame=30301, fps=30.000]),\n",
       " (00:16:50.033 [frame=30301, fps=30.000],\n",
       "  00:17:27.467 [frame=31424, fps=30.000]),\n",
       " (00:17:27.467 [frame=31424, fps=30.000],\n",
       "  00:17:53.000 [frame=32190, fps=30.000]),\n",
       " (00:17:53.000 [frame=32190, fps=30.000],\n",
       "  00:18:57.733 [frame=34132, fps=30.000]),\n",
       " (00:18:57.733 [frame=34132, fps=30.000],\n",
       "  00:19:35.767 [frame=35273, fps=30.000]),\n",
       " (00:19:35.767 [frame=35273, fps=30.000],\n",
       "  00:20:02.067 [frame=36062, fps=30.000]),\n",
       " (00:20:02.067 [frame=36062, fps=30.000],\n",
       "  00:20:09.267 [frame=36278, fps=30.000]),\n",
       " (00:20:09.267 [frame=36278, fps=30.000],\n",
       "  00:21:03.767 [frame=37913, fps=30.000]),\n",
       " (00:21:03.767 [frame=37913, fps=30.000],\n",
       "  00:22:04.567 [frame=39737, fps=30.000]),\n",
       " (00:22:04.567 [frame=39737, fps=30.000],\n",
       "  00:22:08.867 [frame=39866, fps=30.000]),\n",
       " (00:22:08.867 [frame=39866, fps=30.000],\n",
       "  00:22:18.933 [frame=40168, fps=30.000]),\n",
       " (00:22:18.933 [frame=40168, fps=30.000],\n",
       "  00:22:21.900 [frame=40257, fps=30.000]),\n",
       " (00:22:21.900 [frame=40257, fps=30.000],\n",
       "  00:22:24.533 [frame=40336, fps=30.000]),\n",
       " (00:22:24.533 [frame=40336, fps=30.000],\n",
       "  00:22:24.533 [frame=40336, fps=30.000])]"
      ]
     },
     "execution_count": 10,
     "metadata": {},
     "output_type": "execute_result"
    }
   ],
   "source": []
  },
  {
   "cell_type": "code",
   "execution_count": 2,
   "metadata": {},
   "outputs": [
    {
     "name": "stdout",
     "output_type": "stream",
     "text": [
      "franzxaver\n"
     ]
    }
   ],
   "source": [
    "for bucket in s3.buckets.all():\n",
    "    print(bucket.name)"
   ]
  },
  {
   "cell_type": "code",
   "execution_count": 4,
   "metadata": {},
   "outputs": [
    {
     "name": "stdout",
     "output_type": "stream",
     "text": [
      "frame-%s.jpg.jpg      frame-013-01.jpg\tframe-10015.png  frame-35667.png\n",
      "frame-001-01.jpg      frame-014-01.jpg\tframe-133.png\t frame-36170.png\n",
      "frame-001-01.jpg.jpg  frame-015-01.jpg\tframe-13607.png  frame-37095.png\n",
      "frame-002-01.jpg      frame-016-01.jpg\tframe-14285.png  frame-3797.png\n",
      "frame-003-01.jpg      frame-017-01.jpg\tframe-16012.png  frame-38825.png\n",
      "frame-004-01.jpg      frame-018-01.jpg\tframe-19773.png  frame-39801.png\n",
      "frame-005-01.jpg      frame-019-01.jpg\tframe-22773.png  frame-40017.png\n",
      "frame-006-01.jpg      frame-020-01.jpg\tframe-26644.png  frame-40212.png\n",
      "frame-007-01.jpg      frame-021-01.jpg\tframe-29987.png  frame-40296.png\n",
      "frame-008-01.jpg      frame-022-01.jpg\tframe-30862.png  frame-44.png\n",
      "frame-009-01.jpg      frame-023-01.jpg\tframe-316.png\t frame-655.png\n",
      "frame-010-01.jpg      frame-024-01.jpg\tframe-31807.png  frame-6859.png\n",
      "frame-011-01.jpg      frame-025-01.jpg\tframe-33161.png\n",
      "frame-012-01.jpg      frame-026-01.jpg\tframe-34702.png\n"
     ]
    }
   ],
   "source": [
    "!ls "
   ]
  },
  {
   "cell_type": "code",
   "execution_count": 5,
   "metadata": {},
   "outputs": [
    {
     "data": {
      "text/plain": [
       "s3.Object(bucket_name='franzxaver', key='joan/test/frame-31807.png')"
      ]
     },
     "execution_count": 5,
     "metadata": {},
     "output_type": "execute_result"
    }
   ],
   "source": [
    "data = open('frames/frame-31807.png', 'rb')\n",
    "s3.Bucket('franzxaver').put_object(Key='joan/test/frame-31807.png', Body=data)"
   ]
  },
  {
   "cell_type": "code",
   "execution_count": 7,
   "metadata": {},
   "outputs": [],
   "source": []
  },
  {
   "cell_type": "code",
   "execution_count": 55,
   "metadata": {},
   "outputs": [],
   "source": [
    "s3 = boto3.client('s3')\n",
    "    \n",
    "s3.upload_file(\n",
    "    'frames/frame-33161.png', 'franzxaver', \"joan/test/frames/t.png\",\n",
    "    ExtraArgs={'ContentType': 'image/png'} \n",
    ")"
   ]
  },
  {
   "attachments": {},
   "cell_type": "markdown",
   "metadata": {},
   "source": [
    "![img](https://d8kx9lltbn9tr.cloudfront.net/joan/videos/0c9699d3-4057-467a-bc10-ad62de126eff/slides/1778.png)\n"
   ]
  }
 ],
 "metadata": {
  "kernelspec": {
   "display_name": "Python 3",
   "language": "python",
   "name": "python3"
  },
  "language_info": {
   "codemirror_mode": {
    "name": "ipython",
    "version": 3
   },
   "file_extension": ".py",
   "mimetype": "text/x-python",
   "name": "python",
   "nbconvert_exporter": "python",
   "pygments_lexer": "ipython3",
   "version": "3.10.11"
  },
  "orig_nbformat": 4
 },
 "nbformat": 4,
 "nbformat_minor": 2
}
