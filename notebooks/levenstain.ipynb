{
 "cells": [
  {
   "cell_type": "code",
   "execution_count": 1,
   "metadata": {},
   "outputs": [],
   "source": [
    "import Levenshtein as lev\n",
    "from pathlib import Path\n",
    "import re\n",
    "import edist"
   ]
  },
  {
   "cell_type": "code",
   "execution_count": 2,
   "metadata": {},
   "outputs": [
    {
     "name": "stdout",
     "output_type": "stream",
     "text": [
      "So a few of the projects that I've used persistent homology on are looking at urban growth tipping\n",
      "points.\n",
      "So as cities grow, especially if there's not a lot of infrastructure or planning going\n",
      "on when cities start evolving, we can run into problems with infrastructure, we can\n",
      "run into problems with public health and sanitation, and we can end up with environmental issues\n",
      "if there's a tipping point that results in a lot of growth without enough time to build\n",
      "all of the things needed to keep a city running.\n",
      "We can also look at climate change and understand when there are points of no return, when the\n",
      "climate is going to tip, when populations aren't safe living in an area anymore.\n",
      "And this is really important to be able to relocate populations before a disaster happens\n",
      "in their area or before the area is unlivable, such as barrier islands, communities on rivers,\n",
      "areas near the Sahara, which are dealing with a lot of deforestation and evolution into\n",
      "desert climates.\n"
     ]
    }
   ],
   "source": [
    "input_path = Path('input.txt')\n",
    "result_path = Path('result.md')\n",
    "with input_path.open() as f:\n",
    "    input_lines = \"\".join(f.readlines())\n",
    "with result_path.open() as f:\n",
    "    result_lines = \"\".join(f.readlines())\n",
    "    \n",
    "print (input_lines)\n"
   ]
  },
  {
   "cell_type": "code",
   "execution_count": 3,
   "metadata": {},
   "outputs": [
    {
     "name": "stdout",
     "output_type": "stream",
     "text": [
      "\n",
      "replace: 'So', 'Here's'\n",
      "So \n",
      "replace: 'a', 'the'\n",
      "a \n",
      "insert: 'few', 'text'\n",
      "\n",
      "insert: 'few', ' '\n",
      "\n",
      "insert: 'few', 'in'\n",
      "\n",
      "insert: 'few', ' '\n",
      "\n",
      "insert: 'few', 'markdown'\n",
      "\n",
      "insert: 'few', ' '\n",
      "\n",
      "insert: 'few', 'format'\n",
      "\n",
      "insert: 'few', ': ## '\n",
      "\n",
      "insert: 'few', 'Projects'\n",
      "\n",
      "insert: 'few', ' '\n",
      "\n",
      "insert: 'few', 'using'\n",
      "\n",
      "insert: 'few', ' '\n",
      "\n",
      "insert: 'few', 'Persistent'\n",
      "\n",
      "insert: 'few', ' '\n",
      "\n",
      "insert: 'few', 'Homology'\n",
      "\n",
      "insert: 'few', ' '\n",
      "\n",
      "insert: 'few', 'A'\n",
      "\n",
      "insert: 'few', ' '\n",
      "few of the projects that I've used persistent homology on are looking at urban growth tipping points\n",
      "replace: '. ', '.  '\n",
      ". So as cities grow, especially if there's not a lot of infrastructure or planning going on when cities start evolving, we can run into problems with infrastructure, we can run into problems with public health and sanitation, and we can end up with environmental issues if there's a tipping point that results in a lot of growth without enough time to build all of the things needed to keep a city running\n",
      "replace: '. ', '.  '\n",
      ". We can also look at climate change and understand when there are points of no return, when the climate is going to tip, when populations aren't safe living in an area anymore\n",
      "replace: '. ', '.  '\n"
     ]
    }
   ],
   "source": [
    "\n",
    "toc_input = re.split(r\"([~\\w']+)\", input_lines.replace('\\n', ' ').replace('  ', ' '))\n",
    "toc_res = re.split(r\"([~\\w']+)\", result_lines.replace('\\n', ' ').replace('  ', ' '))\n",
    "ops = lev.editops(toc_input, toc_res)\n",
    "i = 0\n",
    "for op,f,t in ops:\n",
    "    print (\"\".join(toc_input[i:f]))\n",
    "    i = f\n",
    "    print (f\"{op}: '{toc_input[f]}', '{toc_res[t]}'\")\n",
    "\n",
    "    \n"
   ]
  },
  {
   "cell_type": "code",
   "execution_count": 7,
   "metadata": {},
   "outputs": [
    {
     "data": {
      "text/plain": [
       "0 vs. 0"
      ]
     },
     "execution_count": 7,
     "metadata": {},
     "output_type": "execute_result"
    }
   ],
   "source": [
    "from edist import sed\n",
    "aligment = sed.standard_sed_backtrace(toc_input, toc_res)\n",
    "aligment[0]"
   ]
  },
  {
   "cell_type": "code",
   "execution_count": 8,
   "metadata": {},
   "outputs": [
    {
     "data": {
      "text/plain": [
       "edist.alignment.Tuple"
      ]
     },
     "execution_count": 8,
     "metadata": {},
     "output_type": "execute_result"
    }
   ],
   "source": [
    "type(aligment[0])"
   ]
  },
  {
   "cell_type": "code",
   "execution_count": 10,
   "metadata": {},
   "outputs": [
    {
     "ename": "TypeError",
     "evalue": "'Tuple' object is not subscriptable",
     "output_type": "error",
     "traceback": [
      "\u001b[0;31m---------------------------------------------------------------------------\u001b[0m",
      "\u001b[0;31mTypeError\u001b[0m                                 Traceback (most recent call last)",
      "Cell \u001b[0;32mIn[10], line 1\u001b[0m\n\u001b[0;32m----> 1\u001b[0m aligment[\u001b[39m0\u001b[39;49m][\u001b[39m0\u001b[39;49m]\n",
      "\u001b[0;31mTypeError\u001b[0m: 'Tuple' object is not subscriptable"
     ]
    }
   ],
   "source": [
    "aligment[0]"
   ]
  }
 ],
 "metadata": {
  "kernelspec": {
   "display_name": "poetry",
   "language": "python",
   "name": "python3"
  },
  "language_info": {
   "codemirror_mode": {
    "name": "ipython",
    "version": 3
   },
   "file_extension": ".py",
   "mimetype": "text/x-python",
   "name": "python",
   "nbconvert_exporter": "python",
   "pygments_lexer": "ipython3",
   "version": "3.10.11"
  },
  "orig_nbformat": 4
 },
 "nbformat": 4,
 "nbformat_minor": 2
}
